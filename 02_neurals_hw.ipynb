{
 "cells": [
  {
   "cell_type": "markdown",
   "metadata": {},
   "source": [
    "## 02 HW"
   ]
  },
  {
   "cell_type": "markdown",
   "metadata": {},
   "source": [
    "Используем набор примеров fashion-MNIST\n",
    "\n",
    "1. Опишите - какой результата получен в нейросети в зависимости от:\n",
    "числа нейронов в слое(для 2-хслойной сети),\n",
    "числа слоев (2, 3, 5, 10) при близких размерах сети (близкое число тренируемых парметров).\n",
    "фиксируйте для тренировочного и тестового набора метрики accuracy.\n",
    "2. Проверьте работу разных оптимизаторов (SGD, Adam, RMSProp) для одной из моделей п.1.Фиксируйте для тренировочного и тестового набора метрики accuracy.\n",
    "\n",
    "3. Сделайте вывод - что помогло вам улучшить качество классификации в нейросети на тестовом наборе?\n",
    "\n",
    "4. Для одного варианта сетей сформируйте матрицу ошибок по классам. Оцените качество модели по каждому классу отдельно (полнота , точность). Сделайте вывод."
   ]
  },
  {
   "cell_type": "code",
   "execution_count": 17,
   "metadata": {},
   "outputs": [],
   "source": [
    "import numpy as np\n",
    "from keras.models import Sequential\n",
    "from keras.layers import Dense\n",
    "from tensorflow.keras.utils import to_categorical\n",
    "from keras.datasets import fashion_mnist\n",
    "\n",
    "from sklearn.metrics import confusion_matrix, recall_score, precision_score, f1_score\n",
    "\n",
    "import matplotlib.pyplot as plt"
   ]
  },
  {
   "cell_type": "code",
   "execution_count": 2,
   "metadata": {
    "scrolled": true
   },
   "outputs": [],
   "source": [
    "(train_images,train_labels), (test_images,test_labels) = fashion_mnist.load_data()"
   ]
  },
  {
   "cell_type": "code",
   "execution_count": 3,
   "metadata": {},
   "outputs": [
    {
     "name": "stdout",
     "output_type": "stream",
     "text": [
      "Train shape (60000, 28, 28)\n",
      "Test shape (10000, 28, 28)\n"
     ]
    }
   ],
   "source": [
    "print('Train shape', train_images.shape)\n",
    "print('Test shape', test_images.shape)"
   ]
  },
  {
   "cell_type": "code",
   "execution_count": 4,
   "metadata": {
    "scrolled": true
   },
   "outputs": [
    {
     "data": {
      "image/png": "[encoded data removed]",
      "text/plain": [
       "<Figure size 432x288 with 1 Axes>"
      ]
     },
     "metadata": {
      "needs_background": "light"
     },
     "output_type": "display_data"
    },
    {
     "name": "stdout",
     "output_type": "stream",
     "text": [
      "8\n"
     ]
    }
   ],
   "source": [
    "n = 2510\n",
    "plt.imshow(train_images[n,:,:])\n",
    "plt.show()\n",
    "print(train_labels[n])"
   ]
  },
  {
   "cell_type": "code",
   "execution_count": 5,
   "metadata": {},
   "outputs": [],
   "source": [
    "# Нормализация\n",
    "train_images = (train_images / 127) - 1\n",
    "test_images = (test_images / 127) - 1\n",
    "# Сглаживание\n",
    "train_images = train_images.reshape((-1, 784))\n",
    "test_images = test_images.reshape((-1, 784))"
   ]
  },
  {
   "cell_type": "code",
   "execution_count": 6,
   "metadata": {},
   "outputs": [],
   "source": [
    "y_t = to_categorical(train_labels)\n",
    "y_tt = to_categorical(test_labels)"
   ]
  },
  {
   "cell_type": "markdown",
   "metadata": {},
   "source": [
    "### 1. Опишите - какой результата получен в нейросети в зависимости от: числа нейронов в слое(для 2-хслойной сети), числа слоев (2, 3, 5, 10) при близких размерах сети (близкое число тренируемых парметров). фиксируйте для тренировочного и тестового набора метрики accuracy."
   ]
  },
  {
   "cell_type": "code",
   "execution_count": 7,
   "metadata": {
    "scrolled": false
   },
   "outputs": [
    {
     "name": "stdout",
     "output_type": "stream",
     "text": [
      "Количество нейронов 10: Train - 0.912; Test - 0.871\n",
      "Количество нейронов 50: Train - 0.919; Test - 0.875\n",
      "Количество нейронов 100: Train - 0.922; Test - 0.883\n",
      "Количество нейронов 150: Train - 0.925; Test - 0.873\n",
      "Количество нейронов 200: Train - 0.928; Test - 0.874\n",
      "Количество нейронов 250: Train - 0.930; Test - 0.884\n",
      "Количество нейронов 300: Train - 0.931; Test - 0.879\n"
     ]
    }
   ],
   "source": [
    "n = [10, 50, 100, 150, 200, 250, 300]\n",
    "\n",
    "for i in n:\n",
    "    \n",
    "  model = Sequential(name='my_model')\n",
    "  model.add(Dense(128, activation='relu', input_shape=(784,)))  \n",
    "  model.add(Dense(i, activation='tanh')) \n",
    "  model.add(Dense(10, activation='softmax'))\n",
    "\n",
    "  # Компилируем сеть с оптимизатором , функцией потерь и метрикой\n",
    "\n",
    "  model.compile(\n",
    "    optimizer='adam', # оптимизатор\n",
    "    loss='categorical_crossentropy', # функция потерь\n",
    "    metrics=['accuracy'], # метрика\n",
    "  ) \n",
    "\n",
    "\n",
    "  # Обучаем сеть\n",
    "\n",
    "  hh = model.fit(  \n",
    "    train_images[:,:],\n",
    "    y_t[:,:],\n",
    "    epochs=15,\n",
    "    batch_size=32, \n",
    "    validation_split=0.2,\n",
    "    verbose=0\n",
    "  )\n",
    "\n",
    "  # Оцениваем качество\n",
    "\n",
    "  test_loss, test_accuracy = model.evaluate(test_images, y_tt, verbose=0)\n",
    "\n",
    "  print(f'Количество нейронов {i}: Train - {hh.history.get(\"accuracy\")[-1]:.3f}; Test - {test_accuracy:.3f}')"
   ]
  },
  {
   "cell_type": "markdown",
   "metadata": {},
   "source": [
    "Количество нейронов на внутреннем слое двухслойной модели для данной задачи оптимально около 100"
   ]
  },
  {
   "cell_type": "code",
   "execution_count": 8,
   "metadata": {},
   "outputs": [],
   "source": [
    "def train_evaluate_model(model, epochs=15, batch_size=32, optimizer='adam'):\n",
    "  # Компилируем сеть с оптимизатором , функцией потерь и метрикой\n",
    "\n",
    "  model.compile(\n",
    "    optimizer=optimizer, # оптимизатор\n",
    "    loss='categorical_crossentropy', # функция потерь\n",
    "    metrics=['accuracy'], # метрика\n",
    "  ) \n",
    "    \n",
    "  hh = model.fit(  \n",
    "    train_images[:,:],\n",
    "    y_t[:,:],\n",
    "    epochs=epochs,\n",
    "    batch_size=32, \n",
    "    validation_split=0.2,\n",
    "    verbose=0\n",
    "  )\n",
    "\n",
    "  test_loss, test_acc = model.evaluate(test_images, y_tt, verbose=0)\n",
    "\n",
    "  return hh.history.get(\"accuracy\")[-1], test_acc"
   ]
  },
  {
   "cell_type": "code",
   "execution_count": 9,
   "metadata": {},
   "outputs": [
    {
     "name": "stdout",
     "output_type": "stream",
     "text": [
      "Количество параметров 2 слоя: 126900\n",
      "Train - 0.927; Test - 0.872\n"
     ]
    }
   ],
   "source": [
    "model_2layers = Sequential(name='2_Layer_model')\n",
    "model_2layers.add(Dense(128, activation='relu', input_shape=(784,)))  \n",
    "model_2layers.add(Dense(190, activation='tanh')) \n",
    "model_2layers.add(Dense(10, activation='softmax'))\n",
    "print(f'Количество параметров 2 слоя: {model_2layers.count_params()}')\n",
    "\n",
    "train_accuracy, test_accuracy = train_evaluate_model(model_2layers)\n",
    "\n",
    "print(f'Train - {train_accuracy:.3f}; Test - {test_accuracy:.3f}')"
   ]
  },
  {
   "cell_type": "code",
   "execution_count": 10,
   "metadata": {},
   "outputs": [
    {
     "name": "stdout",
     "output_type": "stream",
     "text": [
      "Количество параметров 3 слоя: 126780\n",
      "Train - 0.922; Test - 0.873\n"
     ]
    }
   ],
   "source": [
    "model_3layers = Sequential(name='3_Layer_model')\n",
    "model_3layers.add(Dense(128, activation='relu', input_shape=(784,)))  \n",
    "\n",
    "for k in range(2):\n",
    "  model_3layers.add(Dense(10+(10-k)*10, activation='tanh')) \n",
    "\n",
    "model_3layers.add(Dense(10, activation='softmax')) \n",
    "print(f'Количество параметров 3 слоя: {model_3layers.count_params()}')\n",
    "\n",
    "train_accuracy, test_accuracy = train_evaluate_model(model_3layers)\n",
    "\n",
    "print(f'Train - {train_accuracy:.3f}; Test - {test_accuracy:.3f}')"
   ]
  },
  {
   "cell_type": "code",
   "execution_count": 11,
   "metadata": {},
   "outputs": [
    {
     "name": "stdout",
     "output_type": "stream",
     "text": [
      "Количество параметров 5 слоев: 124290\n",
      "Train - 0.911; Test - 0.872\n"
     ]
    }
   ],
   "source": [
    "model_5layers = Sequential(name='5_Layer_model')\n",
    "model_5layers.add(Dense(128, activation='relu', input_shape=(784,)))  \n",
    "\n",
    "for k in range(4):\n",
    "  model_5layers.add(Dense(10+(7-k)*10, activation='tanh')) \n",
    "\n",
    "model_5layers.add(Dense(10, activation='softmax')) \n",
    "print(f'Количество параметров 5 слоев: {model_5layers.count_params()}')\n",
    "\n",
    "train_accuracy, test_accuracy = train_evaluate_model(model_5layers)\n",
    "\n",
    "print(f'Train - {train_accuracy:.3f}; Test - {test_accuracy:.3f}')"
   ]
  },
  {
   "cell_type": "code",
   "execution_count": 12,
   "metadata": {
    "scrolled": true
   },
   "outputs": [
    {
     "name": "stdout",
     "output_type": "stream",
     "text": [
      "Количество параметров 10 слоев: 128200\n",
      "Train - 0.916; Test - 0.874\n"
     ]
    }
   ],
   "source": [
    "model_10layers = Sequential(name='10_Layer_model')\n",
    "model_10layers.add(Dense(128, activation='relu', input_shape=(784,)))  \n",
    "\n",
    "for k in range(3):\n",
    "  model_10layers.add(Dense(10+(k+7)*10, activation='tanh')) \n",
    "\n",
    "model_10layers.add(Dense(10, activation='softmax')) \n",
    "print(f'Количество параметров 10 слоев: {model_10layers.count_params()}')\n",
    "\n",
    "train_accuracy, test_accuracy = train_evaluate_model(model_10layers)\n",
    "\n",
    "print(f'Train - {train_accuracy:.3f}; Test - {test_accuracy:.3f}')"
   ]
  },
  {
   "cell_type": "markdown",
   "metadata": {},
   "source": [
    "Лучшие результаты на тесте показала 10-слойная модель. Меньше всего переобучение на 5-слойной модели."
   ]
  },
  {
   "cell_type": "markdown",
   "metadata": {},
   "source": [
    "### 2. Проверьте работу разных оптимизаторов (SGD, Adam, RMSProp) для одной из моделей п.1.Фиксируйте для тренировочного и тестового набора метрики accuracy."
   ]
  },
  {
   "cell_type": "code",
   "execution_count": 14,
   "metadata": {},
   "outputs": [
    {
     "name": "stdout",
     "output_type": "stream",
     "text": [
      "Оптимизатор - SGD: Train - 0.904; Test - 0.873.\n",
      "Оптимизатор - RMSProp: Train - 0.916; Test - 0.880.\n",
      "Оптимизатор - adam: Train - 0.930; Test - 0.884.\n",
      "Оптимизатор - NAdam: Train - 0.932; Test - 0.875.\n"
     ]
    },
    {
     "data": {
      "image/png": "[encoded data removed]",
      "text/plain": [
       "<Figure size 1152x504 with 1 Axes>"
      ]
     },
     "metadata": {
      "needs_background": "light"
     },
     "output_type": "display_data"
    }
   ],
   "source": [
    "model = Sequential()\n",
    "model.add(Dense(128, activation='relu', input_shape=(784,)))  \n",
    "model.add(Dense(200, activation='tanh')) \n",
    "model.add(Dense(10, activation='softmax'))\n",
    "\n",
    "model.save_weights('model.h5')\n",
    "plt.figure(figsize=(16,7))\n",
    "epochs = 15\n",
    "epoch = np.arange(epochs+1)\n",
    "\n",
    "for optim in ['SGD','RMSProp','adam','NAdam']:\n",
    "\n",
    "  model = Sequential()\n",
    "  model.add(Dense(128, activation='relu', input_shape=(784,)))  \n",
    "  model.add(Dense(200, activation='tanh')) \n",
    "  model.add(Dense(10, activation='softmax'))\n",
    "\n",
    "  model.load_weights('model.h5')\n",
    "  \n",
    "  model.compile(\n",
    "      optimizer=optim,\n",
    "      loss='categorical_crossentropy',\n",
    "      metrics=['accuracy'],\n",
    "      )\n",
    "  \n",
    "  hh0_tr = model.evaluate(train_images[:48000,:], to_categorical(train_labels[:48000]),verbose = 0)\n",
    "  hh0_val = model.evaluate(train_images[48000:,:], to_categorical(train_labels[48000:]),verbose = 0)\n",
    "  \n",
    "  # проводим обучение модели \n",
    "  hh = model.fit(\n",
    "                  train_images,\n",
    "                  to_categorical(train_labels),\n",
    "                  epochs=epochs,\n",
    "                  batch_size=32, \n",
    "                  validation_split=0.2, \n",
    "                  verbose = 0\n",
    "                  )\n",
    "  \n",
    "  test_loss, test_acc = model.evaluate(test_images, y_tt, verbose=0)\n",
    "  print(f'Оптимизатор - {optim}: '\n",
    "        f'Train - {hh.history.get(\"accuracy\")[-1]:.3f}; '\n",
    "        f'Test - {test_acc:.3f}.')\n",
    "\n",
    "  # картинки\n",
    "  plt.plot(epoch, np.log([hh0_tr[0]]+hh.history['loss']),'-',label = model.optimizer.get_config()['name']+' train')\n",
    "  plt.plot(epoch, np.log([hh0_val[0]]+hh.history['val_loss']),'--',label = model.optimizer.get_config()['name']+' val')\n",
    "\n",
    "plt.legend()\n",
    "plt.grid('On')\n",
    "\n",
    "plt.title('нейросети от оптимизатора log(loss)')\n",
    "plt.xlabel('epoch')\n",
    "plt.ylabel('log(loss)')\n",
    "plt.show()"
   ]
  },
  {
   "cell_type": "markdown",
   "metadata": {},
   "source": [
    "Наилучшая метрика на тесте достигается при использовании оптимизатора adam. Хуже всего показал RMSProp.\n",
    "\n",
    "На валидационном датасете ошибка модели мало отличается при использовании разных оптимизаторов."
   ]
  },
  {
   "cell_type": "markdown",
   "metadata": {},
   "source": [
    "### 3. Сделайте вывод - что помогло вам улучшить качество классификации в нейросети на тестовом наборе?"
   ]
  },
  {
   "cell_type": "markdown",
   "metadata": {},
   "source": [
    "Улучшить качество классификации на тестовом датасете помогло прменение оптимизатора Adam, и установка количества нейронов в 2-слойной модели около 100. Увеличение слоев модели до 10 (сократилось переобучение)."
   ]
  },
  {
   "cell_type": "markdown",
   "metadata": {},
   "source": [
    "### 4. Для одного варианта сетей сформируйте матрицу ошибок по классам. Оцените качество модели по каждому классу отдельно (полнота , точность). Сделайте вывод."
   ]
  },
  {
   "cell_type": "code",
   "execution_count": 16,
   "metadata": {},
   "outputs": [
    {
     "data": {
      "text/plain": [
       "array([[871,   1,  18,  20,   2,   1,  80,   0,   7,   0],\n",
       "       [  3, 962,   1,  28,   1,   0,   3,   0,   2,   0],\n",
       "       [ 19,   2, 834,  20,  55,   0,  68,   0,   2,   0],\n",
       "       [ 36,   6,   9, 898,  27,   0,  21,   0,   3,   0],\n",
       "       [  3,   1, 136,  43, 754,   0,  62,   0,   1,   0],\n",
       "       [  1,   0,   0,   2,   0, 963,   0,  10,   1,  23],\n",
       "       [156,   2,  90,  24,  54,   0, 664,   0,  10,   0],\n",
       "       [  1,   0,   0,   0,   0,  64,   0, 889,   0,  46],\n",
       "       [  6,   0,   5,   9,   4,   4,   9,   1, 962,   0],\n",
       "       [  0,   0,   0,   0,   0,   8,   1,  21,   0, 970]], dtype=int64)"
      ]
     },
     "execution_count": 16,
     "metadata": {},
     "output_type": "execute_result"
    }
   ],
   "source": [
    "model = Sequential()\n",
    "model.add(Dense(128, activation='relu', input_shape=(784,)))  \n",
    "model.add(Dense(50, activation='tanh')) \n",
    "model.add(Dense(10, activation='softmax'))\n",
    "\n",
    "train_evaluate_model(model, optimizer='adam')\n",
    "\n",
    "y_pred = model.predict(test_images[:,:])\n",
    "y_pred_class = np.argmax(y_pred, axis=1)\n",
    "\n",
    "confusion_matrix(test_labels, y_pred_class)"
   ]
  },
  {
   "cell_type": "code",
   "execution_count": 18,
   "metadata": {},
   "outputs": [
    {
     "data": {
      "text/plain": [
       "array([0.871, 0.962, 0.834, 0.898, 0.754, 0.963, 0.664, 0.889, 0.962,\n",
       "       0.97 ])"
      ]
     },
     "execution_count": 18,
     "metadata": {},
     "output_type": "execute_result"
    }
   ],
   "source": [
    "recall_score(test_labels, y_pred_class, labels=np.unique(test_labels), average=None)"
   ]
  },
  {
   "cell_type": "code",
   "execution_count": 19,
   "metadata": {},
   "outputs": [
    {
     "data": {
      "text/plain": [
       "array([0.79470803, 0.98767967, 0.76303751, 0.86015326, 0.84057971,\n",
       "       0.92596154, 0.73127753, 0.96525516, 0.97368421, 0.93358999])"
      ]
     },
     "execution_count": 19,
     "metadata": {},
     "output_type": "execute_result"
    }
   ],
   "source": [
    "precision_score(test_labels, y_pred_class, labels=np.unique(test_labels), average=None)"
   ]
  },
  {
   "cell_type": "code",
   "execution_count": 20,
   "metadata": {},
   "outputs": [
    {
     "data": {
      "text/plain": [
       "array([0.83110687, 0.97467072, 0.79694219, 0.87866928, 0.79493938,\n",
       "       0.94411765, 0.69601677, 0.9255596 , 0.96780684, 0.95144679])"
      ]
     },
     "execution_count": 20,
     "metadata": {},
     "output_type": "execute_result"
    }
   ],
   "source": [
    "f1_score(test_labels, y_pred_class, labels=np.unique(test_labels), average=None)"
   ]
  },
  {
   "cell_type": "markdown",
   "metadata": {},
   "source": [
    "Получились хорошие значения метрик precision и recall, для одного из классов f1_score получилась низкой = 0.696"
   ]
  },
  {
   "cell_type": "code",
   "execution_count": null,
   "metadata": {},
   "outputs": [],
   "source": []
  }
 ],
 "metadata": {
  "kernelspec": {
   "display_name": "Python 3",
   "language": "python",
   "name": "python3"
  },
  "language_info": {
   "codemirror_mode": {
    "name": "ipython",
    "version": 3
   },
   "file_extension": ".py",
   "mimetype": "text/x-python",
   "name": "python",
   "nbconvert_exporter": "python",
   "pygments_lexer": "ipython3",
   "version": "3.8.5"
  }
 },
 "nbformat": 4,
 "nbformat_minor": 4
}
